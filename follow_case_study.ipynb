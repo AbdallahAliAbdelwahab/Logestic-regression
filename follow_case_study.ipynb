{
 "cells": [
  {
   "cell_type": "code",
   "execution_count": 1,
   "id": "46249c7c-79c3-4f68-bb0f-4cc95ff316a5",
   "metadata": {
    "tags": []
   },
   "outputs": [
    {
     "name": "stdout",
     "output_type": "stream",
     "text": [
      "WARNING:tensorflow:From C:\\Users\\H P\\AppData\\Roaming\\Python\\Python311\\site-packages\\keras\\src\\losses.py:2976: The name tf.losses.sparse_softmax_cross_entropy is deprecated. Please use tf.compat.v1.losses.sparse_softmax_cross_entropy instead.\n",
      "\n"
     ]
    }
   ],
   "source": [
    "import numpy as np\n",
    "import tensorflow as tf"
   ]
  },
  {
   "cell_type": "code",
   "execution_count": 2,
   "id": "36e453fc-0093-442f-92f5-583f7363b2ba",
   "metadata": {
    "tags": []
   },
   "outputs": [],
   "source": [
    "npz = np.load('Audiobooks_data_train.npz')\n",
    "train_inputs = npz['inputs'].astype(np.float16)\n",
    "train_targets = npz['targets'].astype(np.int16)\n",
    "\n",
    "npz = np.load('Audiobooks_data_validation.npz')\n",
    "val_inputs = npz['inputs'].astype(np.float16)\n",
    "val_targets = npz['targets'].astype(np.int16)\n",
    "\n",
    "npz = np.load('Audiobooks_data_test.npz')\n",
    "test_inputs = npz['inputs'].astype(np.float16)\n",
    "test_targets = npz['targets'].astype(np.int16)"
   ]
  },
  {
   "cell_type": "code",
   "execution_count": 14,
   "id": "4706f2b2-8d21-4ac4-832b-bd426fa975f8",
   "metadata": {
    "tags": []
   },
   "outputs": [
    {
     "name": "stdout",
     "output_type": "stream",
     "text": [
      "Epoch 1/100\n",
      "36/36 - 1s - loss: 0.5765 - accuracy: 0.6865 - val_loss: 0.4955 - val_accuracy: 0.7405 - 915ms/epoch - 25ms/step\n",
      "Epoch 2/100\n",
      "36/36 - 0s - loss: 0.4654 - accuracy: 0.7592 - val_loss: 0.4392 - val_accuracy: 0.7629 - 122ms/epoch - 3ms/step\n",
      "Epoch 3/100\n",
      "36/36 - 0s - loss: 0.4212 - accuracy: 0.7812 - val_loss: 0.4049 - val_accuracy: 0.7852 - 135ms/epoch - 4ms/step\n",
      "Epoch 4/100\n",
      "36/36 - 0s - loss: 0.3947 - accuracy: 0.7949 - val_loss: 0.3910 - val_accuracy: 0.8031 - 151ms/epoch - 4ms/step\n",
      "Epoch 5/100\n",
      "36/36 - 0s - loss: 0.3773 - accuracy: 0.8022 - val_loss: 0.3655 - val_accuracy: 0.8143 - 149ms/epoch - 4ms/step\n",
      "Epoch 6/100\n",
      "36/36 - 0s - loss: 0.3676 - accuracy: 0.8005 - val_loss: 0.3581 - val_accuracy: 0.8300 - 164ms/epoch - 5ms/step\n",
      "Epoch 7/100\n",
      "36/36 - 0s - loss: 0.3599 - accuracy: 0.8086 - val_loss: 0.3544 - val_accuracy: 0.8098 - 144ms/epoch - 4ms/step\n",
      "Epoch 8/100\n",
      "36/36 - 0s - loss: 0.3527 - accuracy: 0.8108 - val_loss: 0.3450 - val_accuracy: 0.8143 - 129ms/epoch - 4ms/step\n",
      "Epoch 9/100\n",
      "36/36 - 0s - loss: 0.3473 - accuracy: 0.8100 - val_loss: 0.3530 - val_accuracy: 0.8098 - 123ms/epoch - 3ms/step\n",
      "Epoch 10/100\n",
      "36/36 - 0s - loss: 0.3465 - accuracy: 0.8114 - val_loss: 0.3663 - val_accuracy: 0.8098 - 127ms/epoch - 4ms/step\n"
     ]
    },
    {
     "data": {
      "text/plain": [
       "<keras.src.callbacks.History at 0x2047f50b1d0>"
      ]
     },
     "execution_count": 14,
     "metadata": {},
     "output_type": "execute_result"
    }
   ],
   "source": [
    "input_size = 10\n",
    "output_size = 2\n",
    "hidden_layer_size = 50\n",
    "\n",
    "model = tf.keras.Sequential([\n",
    "    tf.keras.layers.Dense(hidden_layer_size, activation='relu'),\n",
    "    tf.keras.layers.Dense(hidden_layer_size, activation='relu'),\n",
    "    tf.keras.layers.Dense(output_size, activation='softmax'),\n",
    "])\n",
    "\n",
    "model.compile(optimizer='adam', loss='sparse_categorical_crossentropy', metrics=['accuracy'])\n",
    "\n",
    "batch_size = 100\n",
    "max_epoch = 100\n",
    "early_stopping = tf.keras.callbacks.EarlyStopping(patience=2)\n",
    "\n",
    "model.fit(train_inputs,\n",
    "         train_targets,\n",
    "         batch_size= batch_size,\n",
    "         epochs=max_epoch,\n",
    "          callbacks=[early_stopping],\n",
    "         validation_data=(val_inputs,val_targets),\n",
    "         verbose=2)"
   ]
  },
  {
   "cell_type": "code",
   "execution_count": 15,
   "id": "ebcb81ce-5d92-40fa-85da-6c4acc2c8caa",
   "metadata": {
    "tags": []
   },
   "outputs": [
    {
     "name": "stdout",
     "output_type": "stream",
     "text": [
      "14/14 [==============================] - 0s 3ms/step - loss: 0.3411 - accuracy: 0.8170\n"
     ]
    }
   ],
   "source": [
    "test_loss, test_accuracy = model.evaluate(test_inputs, test_targets)"
   ]
  },
  {
   "cell_type": "code",
   "execution_count": 16,
   "id": "5098ff92-bc4f-4a46-bd03-b1c986565932",
   "metadata": {
    "tags": []
   },
   "outputs": [
    {
     "name": "stdout",
     "output_type": "stream",
     "text": [
      "\n",
      "Test loss: 0.34. Test accuracy: 81.70%\n"
     ]
    }
   ],
   "source": [
    "print('\\nTest loss: {0:.2f}. Test accuracy: {1:.2f}%'.format(test_loss, test_accuracy*100.))"
   ]
  }
 ],
 "metadata": {
  "kernelspec": {
   "display_name": "Python 3 (ipykernel)",
   "language": "python",
   "name": "python3"
  },
  "language_info": {
   "codemirror_mode": {
    "name": "ipython",
    "version": 3
   },
   "file_extension": ".py",
   "mimetype": "text/x-python",
   "name": "python",
   "nbconvert_exporter": "python",
   "pygments_lexer": "ipython3",
   "version": "3.9.18"
  }
 },
 "nbformat": 4,
 "nbformat_minor": 5
}
